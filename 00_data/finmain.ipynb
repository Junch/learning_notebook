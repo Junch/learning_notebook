{
 "cells": [
  {
   "cell_type": "code",
   "execution_count": 1,
   "metadata": {},
   "outputs": [],
   "source": [
    "# -*- coding: UTF-8 -*-    \n",
    "import pandas as pd\n",
    "from pandas.io.json import json_normalize\n",
    "import json\n",
    "import pathlib"
   ]
  },
  {
   "cell_type": "code",
   "execution_count": 2,
   "metadata": {},
   "outputs": [],
   "source": [
    "# 读入数据\n",
    "def read_finmain():\n",
    "    p = pathlib.Path('./json')\n",
    "    files = list(p.glob('*.json'))\n",
    "\n",
    "    dframes = []\n",
    "    for file in files:\n",
    "        with file.open() as f:\n",
    "            data_str = f.read()\n",
    "            data_list = json.loads(data_str)\n",
    "            df = json_normalize(data_list[\"list\"])\n",
    "            df['symbol'] = file.stem.lower()\n",
    "            dframes.append(df)\n",
    "\n",
    "    r = pd.concat(dframes)\n",
    "    r.reportdate = pd.to_datetime(r['reportdate'])\n",
    "    r.reportdate = r.reportdate.dt.to_period(\"Q\")\n",
    "    r.to_csv('account.csv', index=False)"
   ]
  },
  {
   "cell_type": "code",
   "execution_count": 3,
   "metadata": {},
   "outputs": [
    {
     "data": {
      "text/html": [
       "<div>\n",
       "<style scoped>\n",
       "    .dataframe tbody tr th:only-of-type {\n",
       "        vertical-align: middle;\n",
       "    }\n",
       "\n",
       "    .dataframe tbody tr th {\n",
       "        vertical-align: top;\n",
       "    }\n",
       "\n",
       "    .dataframe thead th {\n",
       "        text-align: right;\n",
       "    }\n",
       "</style>\n",
       "<table border=\"1\" class=\"dataframe\">\n",
       "  <thead>\n",
       "    <tr style=\"text-align: right;\">\n",
       "      <th></th>\n",
       "      <th>reportdate</th>\n",
       "      <th>实收资本(或股本)</th>\n",
       "    </tr>\n",
       "    <tr>\n",
       "      <th>symbol</th>\n",
       "      <th></th>\n",
       "      <th></th>\n",
       "    </tr>\n",
       "  </thead>\n",
       "  <tbody>\n",
       "    <tr>\n",
       "      <th>sz300004</th>\n",
       "      <td>2017Q3</td>\n",
       "      <td>509218928.0</td>\n",
       "    </tr>\n",
       "    <tr>\n",
       "      <th>sz000893</th>\n",
       "      <td>2017Q3</td>\n",
       "      <td>756903272.0</td>\n",
       "    </tr>\n",
       "    <tr>\n",
       "      <th>sz002612</th>\n",
       "      <td>2017Q3</td>\n",
       "      <td>400000000.0</td>\n",
       "    </tr>\n",
       "    <tr>\n",
       "      <th>sh600805</th>\n",
       "      <td>2017Q3</td>\n",
       "      <td>850894494.0</td>\n",
       "    </tr>\n",
       "    <tr>\n",
       "      <th>sz300014</th>\n",
       "      <td>2017Q3</td>\n",
       "      <td>855985593.0</td>\n",
       "    </tr>\n",
       "  </tbody>\n",
       "</table>\n",
       "</div>"
      ],
      "text/plain": [
       "         reportdate    实收资本(或股本)\n",
       "symbol                          \n",
       "sz300004     2017Q3  509218928.0\n",
       "sz000893     2017Q3  756903272.0\n",
       "sz002612     2017Q3  400000000.0\n",
       "sh600805     2017Q3  850894494.0\n",
       "sz300014     2017Q3  855985593.0"
      ]
     },
     "execution_count": 3,
     "metadata": {},
     "output_type": "execute_result"
    }
   ],
   "source": [
    "def read_fzb():\n",
    "    p = pathlib.Path('./csv')\n",
    "    files = list(p.glob('*_fzb.csv'))\n",
    "\n",
    "    dframes = []\n",
    "    for file in files:\n",
    "        df = pd.read_csv(str(file))\n",
    "        df['symbol'] = file.stem.lower()[:8]\n",
    "        dframes.append(df)\n",
    "\n",
    "    r = pd.concat(dframes)\n",
    "    r['报表日期'] = pd.to_datetime(r['报表日期'], format='%Y%m%d')\n",
    "    r['报表日期'] = r['报表日期'].dt.to_period(\"Q\")\n",
    "    return r\n",
    "\n",
    "d = read_fzb()\n",
    "start = pd.Period('2017Q3')\n",
    "dnew = d.loc[d['报表日期'] >= start ,['symbol', '报表日期', '实收资本(或股本)']]\n",
    "dnew.set_index('symbol', inplace=True)\n",
    "dnew.rename(columns={'报表日期': 'reportdate'}, inplace=True)\n",
    "dnew.to_csv('totalshare.csv')\n",
    "dnew.head()"
   ]
  },
  {
   "cell_type": "code",
   "execution_count": null,
   "metadata": {},
   "outputs": [],
   "source": []
  }
 ],
 "metadata": {
  "kernelspec": {
   "display_name": "Python 3",
   "language": "python",
   "name": "python3"
  },
  "language_info": {
   "codemirror_mode": {
    "name": "ipython",
    "version": 3
   },
   "file_extension": ".py",
   "mimetype": "text/x-python",
   "name": "python",
   "nbconvert_exporter": "python",
   "pygments_lexer": "ipython3",
   "version": "3.6.4"
  }
 },
 "nbformat": 4,
 "nbformat_minor": 2
}
