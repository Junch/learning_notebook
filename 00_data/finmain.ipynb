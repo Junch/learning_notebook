{
 "cells": [
  {
   "cell_type": "code",
   "execution_count": 1,
   "metadata": {},
   "outputs": [],
   "source": [
    "# -*- coding: UTF-8 -*-    \n",
    "import pandas as pd\n",
    "from pandas.io.json import json_normalize\n",
    "import json\n",
    "import pathlib"
   ]
  },
  {
   "cell_type": "code",
   "execution_count": 5,
   "metadata": {},
   "outputs": [],
   "source": [
    "# 读入数据\n",
    "p = pathlib.Path('./json')\n",
    "files = list(p.glob('*.json'))\n",
    "\n",
    "dframes = []\n",
    "for file in files:\n",
    "    with file.open() as f:\n",
    "        data_str = f.read()\n",
    "        data_list = json.loads(data_str)\n",
    "        df = json_normalize(data_list[\"list\"])\n",
    "        df['symbol'] = file.stem.lower()\n",
    "        dframes.append(df)\n",
    "\n",
    "res = pd.concat(dframes)\n",
    "res.to_csv('account.csv', index=False)"
   ]
  },
  {
   "cell_type": "code",
   "execution_count": null,
   "metadata": {},
   "outputs": [],
   "source": []
  }
 ],
 "metadata": {
  "kernelspec": {
   "display_name": "Python 3",
   "language": "python",
   "name": "python3"
  },
  "language_info": {
   "codemirror_mode": {
    "name": "ipython",
    "version": 3
   },
   "file_extension": ".py",
   "mimetype": "text/x-python",
   "name": "python",
   "nbconvert_exporter": "python",
   "pygments_lexer": "ipython3",
   "version": "3.6.4"
  }
 },
 "nbformat": 4,
 "nbformat_minor": 2
}
